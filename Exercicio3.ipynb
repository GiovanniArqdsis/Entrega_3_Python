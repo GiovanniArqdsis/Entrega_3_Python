{
 "cells": [
  {
   "cell_type": "code",
   "execution_count": 16,
   "metadata": {},
   "outputs": [
    {
     "ename": "SyntaxError",
     "evalue": "invalid syntax (<ipython-input-16-2c2c243048bd>, line 4)",
     "output_type": "error",
     "traceback": [
      "\u001b[1;36m  File \u001b[1;32m\"<ipython-input-16-2c2c243048bd>\"\u001b[1;36m, line \u001b[1;32m4\u001b[0m\n\u001b[1;33m    return print 'a';\u001b[0m\n\u001b[1;37m                   ^\u001b[0m\n\u001b[1;31mSyntaxError\u001b[0m\u001b[1;31m:\u001b[0m invalid syntax\n"
     ]
    }
   ],
   "source": [
    "a = input (\"digite oum valor\")\n",
    "b = input (\"digite oum valor\")\n",
    "if a > b:\n",
    "    return a;\n",
    "else:\n",
    "    return b;"
   ]
  },
  {
   "cell_type": "code",
   "execution_count": 17,
   "metadata": {},
   "outputs": [
    {
     "name": "stdout",
     "output_type": "stream",
     "text": [
      "digite uma letral\n"
     ]
    },
    {
     "ename": "SyntaxError",
     "evalue": "'return' outside function (<ipython-input-17-0817c98de34d>, line 3)",
     "output_type": "error",
     "traceback": [
      "\u001b[1;36m  File \u001b[1;32m\"<ipython-input-17-0817c98de34d>\"\u001b[1;36m, line \u001b[1;32m3\u001b[0m\n\u001b[1;33m    return \"vogal\"\u001b[0m\n\u001b[1;37m    ^\u001b[0m\n\u001b[1;31mSyntaxError\u001b[0m\u001b[1;31m:\u001b[0m 'return' outside function\n"
     ]
    }
   ],
   "source": [
    "p = input (\"digite uma letra\")\n",
    "if p == a or p ==e or p == i or p == o or p == u:\n",
    "    return \"vogal\"\n",
    "else:\n",
    "    return \"consoante\""
   ]
  },
  {
   "cell_type": "code",
   "execution_count": 5,
   "metadata": {},
   "outputs": [
    {
     "ename": "SyntaxError",
     "evalue": "invalid syntax (<ipython-input-5-cf1140f95a0f>, line 2)",
     "output_type": "error",
     "traceback": [
      "\u001b[1;36m  File \u001b[1;32m\"<ipython-input-5-cf1140f95a0f>\"\u001b[1;36m, line \u001b[1;32m2\u001b[0m\n\u001b[1;33m    nota2 = int (input (\"Digite a segunda nota\")\u001b[0m\n\u001b[1;37m        ^\u001b[0m\n\u001b[1;31mSyntaxError\u001b[0m\u001b[1;31m:\u001b[0m invalid syntax\n"
     ]
    }
   ],
   "source": [
    "nota1 = int (input (\"Digite o primeira nota\")\n",
    "nota2 = int (input (\"Digite a segunda nota\")             \n",
    "media = (nota1 + nota2) / 2\n",
    "if(media >= 7):\n",
    "    print \"aprovado\"\n",
    "if(media == 10):\n",
    "    print  \"Aprovado com Distinção\"\n",
    "if(media < 7):\n",
    "    print \"reprovado\""
   ]
  },
  {
   "cell_type": "code",
   "execution_count": 6,
   "metadata": {},
   "outputs": [
    {
     "ename": "SyntaxError",
     "evalue": "invalid syntax (<ipython-input-6-ef2173cb5377>, line 2)",
     "output_type": "error",
     "traceback": [
      "\u001b[1;36m  File \u001b[1;32m\"<ipython-input-6-ef2173cb5377>\"\u001b[1;36m, line \u001b[1;32m2\u001b[0m\n\u001b[1;33m    numero2 = int (input (\"Digite a segunda numero\")\u001b[0m\n\u001b[1;37m          ^\u001b[0m\n\u001b[1;31mSyntaxError\u001b[0m\u001b[1;31m:\u001b[0m invalid syntax\n"
     ]
    }
   ],
   "source": [
    "numero1 = int (input (\"Digite o primeira numero\")\n",
    "numero2 = int (input (\"Digite a segunda numero\") \n",
    "numero3 = int (input (\"Digite o terceiro numero\")\n",
    "if(numero1 > numero2 and numero 3):\n",
    "    if(numero 2 > numero3):\n",
    "        print numero1, numero2, numero3 \n",
    "    if(numero 3 > numero2):\n",
    "        print numero1, numero3, numero2\n",
    "    \n",
    "if(numero2 > numero1 and numero 3):\n",
    "    if(numero1 > numero3):\n",
    "        print numero2, numero1, numero3\n",
    "    if(numero3 > numero1):\n",
    "        print numero2, numero3, numero1\n",
    "    \n",
    "if(numero3 > numero1 and numero 2):\n",
    "    if(numero1 > numero2):\n",
    "        print numero3, numero1, numero2\n",
    "    if(numero2 > numero1):\n",
    "        print numero3, numero2, numero1"
   ]
  },
  {
   "cell_type": "code",
   "execution_count": 7,
   "metadata": {},
   "outputs": [
    {
     "ename": "SyntaxError",
     "evalue": "invalid syntax (<ipython-input-7-f667dd297616>, line 2)",
     "output_type": "error",
     "traceback": [
      "\u001b[1;36m  File \u001b[1;32m\"<ipython-input-7-f667dd297616>\"\u001b[1;36m, line \u001b[1;32m2\u001b[0m\n\u001b[1;33m    novoSalario = 0\u001b[0m\n\u001b[1;37m              ^\u001b[0m\n\u001b[1;31mSyntaxError\u001b[0m\u001b[1;31m:\u001b[0m invalid syntax\n"
     ]
    }
   ],
   "source": [
    "salario = int (input (\"Digite o salario\")\n",
    "novoSalario = 0 \n",
    "if(salario <= 280):\n",
    "    novosalario = salario + (salario * 0.2)\n",
    "    print (salario, \"20%\", (salario * 0.2), novosalario)\n",
    "if(salario > 281 and salario < 700):\n",
    "    novosalario = salario + (salario * 0.15)\n",
    "    print (salario, \"15%\", (salario * 0.2), novosalario)\n",
    "if(salario > 701 and salario < 1500):\n",
    "    novosalario = salario + (salario * 0.1)\n",
    "    print (salario, \"10%\", (salario * 0.2), novosalario)\n",
    "if(salario > 1501):\n",
    "    novosalario = salario + (salario * 0.05)\n",
    "    print (salario, \"5%\", (salario * 0.2), novosalario)"
   ]
  },
  {
   "cell_type": "code",
   "execution_count": 8,
   "metadata": {},
   "outputs": [
    {
     "ename": "SyntaxError",
     "evalue": "invalid syntax (<ipython-input-8-e1c7c0358693>, line 2)",
     "output_type": "error",
     "traceback": [
      "\u001b[1;36m  File \u001b[1;32m\"<ipython-input-8-e1c7c0358693>\"\u001b[1;36m, line \u001b[1;32m2\u001b[0m\n\u001b[1;33m    if(dia == 1){\u001b[0m\n\u001b[1;37m                ^\u001b[0m\n\u001b[1;31mSyntaxError\u001b[0m\u001b[1;31m:\u001b[0m invalid syntax\n"
     ]
    }
   ],
   "source": [
    "dia = int (input (\"Digite o dia\")\n",
    "if(dia == 1):\n",
    "    print \"domingo\"\n",
    "if(dia == 2):\n",
    "    print \"segunda\"\n",
    "if(dia == 3):\n",
    "    print \"terça\"\n",
    "if(dia == 4):\n",
    "    print \"quarta\"\n",
    "if(dia == 5):\n",
    "    print \"quinta\"\n",
    "if(dia == 6):\n",
    "    print \"sexta\"\n",
    "if(dia == 7):\n",
    "    print \"sabado\"\n",
    "if(dia == 8):\n",
    "    print \"domingo\"\n",
    "if(dia == 9):\n",
    "    print \"segunda\"\n",
    "if(dia == 10):\n",
    "    print \"terça\"\n",
    "if(dia == 11):\n",
    "    print \"quarta\"\n",
    "if(dia == 12):\n",
    "    print \"quinta\"\n",
    "if(dia == 13):\n",
    "    print \"sexta\"\n",
    "if(dia == 14):\n",
    "    print \"sabado\"\n",
    "if(dia == 15):\n",
    "    print \"domingo\"\n",
    "if(dia == 16):\n",
    "    print \"segunda\"\n",
    "if(dia == 17):\n",
    "    print \"terça\"\n",
    "if(dia == 18):\n",
    "    print \"quarta\"\n",
    "if(dia == 19):\n",
    "    print \"quinta\"\n",
    "if(dia == 20):\n",
    "    print \"sexta\"\n",
    "if(dia == 21):\n",
    "    print \"sabado\"\n",
    "if(dia == 22):\n",
    "    print \"domingo\"\n",
    "if(dia == 23):\n",
    "    print \"segunda\"\n",
    "if(dia == 24):\n",
    "    print \"terça\"\n",
    "if(dia == 25):\n",
    "    print \"quarta\"\n",
    "if(dia == 26):\n",
    "    print \"quinta\"\n",
    "if(dia == 27):\n",
    "    print \"sexta\"\n",
    "if(dia == 28):\n",
    "    print \"sabado\"\n",
    "if(dia == 29):\n",
    "    print \"domingo\"\n",
    "if(dia == 30):\n",
    "    print \"segunda\"\n",
    "else \n",
    "    print \"não existe\""
   ]
  },
  {
   "cell_type": "code",
   "execution_count": 10,
   "metadata": {},
   "outputs": [
    {
     "ename": "SyntaxError",
     "evalue": "invalid syntax (<ipython-input-10-b2c32c8bd8a9>, line 2)",
     "output_type": "error",
     "traceback": [
      "\u001b[1;36m  File \u001b[1;32m\"<ipython-input-10-b2c32c8bd8a9>\"\u001b[1;36m, line \u001b[1;32m2\u001b[0m\n\u001b[1;33m    nota2 = int (input (\"Digite a nota 2\")\u001b[0m\n\u001b[1;37m        ^\u001b[0m\n\u001b[1;31mSyntaxError\u001b[0m\u001b[1;31m:\u001b[0m invalid syntax\n"
     ]
    }
   ],
   "source": [
    "nota1 = int (input (\"Digite a nota 1\")\n",
    "nota2 = int (input (\"Digite a nota 2\")\n",
    "media = (nota1 + nota2) / 2\n",
    "if(media > 9 and media <= 10):\n",
    "    print nota1, not2, media, \"A\", \"APROVADO\"\n",
    "if(media > 7,5 and media <= 9):\n",
    "    print nota1, not2, media, \"B\" + \"APROVADO\"\n",
    "if(media > 6 and media <= 7,5):\n",
    "    print nota1, not2, media, \"C\" + \"APROVADO\"\n",
    "if(media > 4 and media <= 6):\n",
    "    print nota1, not2, media, \"D\" + \"REPROVADO\"\n",
    "if(media > 0 and media <= 4):\n",
    "    print nota1, not2, media, \"E\" + \"REPROVADO\""
   ]
  },
  {
   "cell_type": "code",
   "execution_count": 11,
   "metadata": {},
   "outputs": [
    {
     "ename": "SyntaxError",
     "evalue": "invalid syntax (<ipython-input-11-2694d88359c8>, line 2)",
     "output_type": "error",
     "traceback": [
      "\u001b[1;36m  File \u001b[1;32m\"<ipython-input-11-2694d88359c8>\"\u001b[1;36m, line \u001b[1;32m2\u001b[0m\n\u001b[1;33m    lado2 = int (input (\"Digite o lado 2\")\u001b[0m\n\u001b[1;37m        ^\u001b[0m\n\u001b[1;31mSyntaxError\u001b[0m\u001b[1;31m:\u001b[0m invalid syntax\n"
     ]
    }
   ],
   "source": [
    "lado1 = int (input (\"Digite o lado 1\")\n",
    "lado2 = int (input (\"Digite o lado 2\")\n",
    "lado3 = int (input (\"Digite o lado 3\")\n",
    "if(lado1 < lado2 and lado3 or lado2 < lado1 and lado3 or lado3 < lado2 and lado1):\n",
    "    if(lado1 == lado2 == lado3):\n",
    "        print \"Equilátero\"\n",
    "    if(lado1 == lado2 or lado1 == lado3 or lado2 == lado3):\n",
    "        print \"Isósceles\"\n",
    "    if(lado1 != lado2 and lado2 != lado3):\n",
    "        print \"Escaleno\""
   ]
  },
  {
   "cell_type": "code",
   "execution_count": 12,
   "metadata": {},
   "outputs": [
    {
     "ename": "SyntaxError",
     "evalue": "invalid syntax (<ipython-input-12-5c84006debe8>, line 2)",
     "output_type": "error",
     "traceback": [
      "\u001b[1;36m  File \u001b[1;32m\"<ipython-input-12-5c84006debe8>\"\u001b[1;36m, line \u001b[1;32m2\u001b[0m\n\u001b[1;33m    b = int (input (\"Digite o lado 2\")\u001b[0m\n\u001b[1;37m    ^\u001b[0m\n\u001b[1;31mSyntaxError\u001b[0m\u001b[1;31m:\u001b[0m invalid syntax\n"
     ]
    }
   ],
   "source": [
    "a = int (input (\"Digite o lado 1\")\n",
    "b = int (input (\"Digite o lado 2\")\n",
    "c = int (input (\"Digite o lado 3\")\n",
    "delta = b**2 - 4*a*c\n",
    "x1 = 0\n",
    "x2 = 0\n",
    "if(a == 0):\n",
    "    print \"não é possivel calcular\"\n",
    "if(delta < 0):\n",
    "    print \"só possui uma raiz\"\n",
    "if(delta > 0):\n",
    "    x1 = (-b + (delta ** 0,5))/(2 * a)\n",
    "    x1 = (-b - (delta ** 0,5))/(2 * a)\n",
    "    print x1, x2"
   ]
  },
  {
   "cell_type": "code",
   "execution_count": 13,
   "metadata": {},
   "outputs": [
    {
     "ename": "SyntaxError",
     "evalue": "invalid syntax (<ipython-input-13-0cb9b6ecd14b>, line 2)",
     "output_type": "error",
     "traceback": [
      "\u001b[1;36m  File \u001b[1;32m\"<ipython-input-13-0cb9b6ecd14b>\"\u001b[1;36m, line \u001b[1;32m2\u001b[0m\n\u001b[1;33m    nota1 = 1\u001b[0m\n\u001b[1;37m        ^\u001b[0m\n\u001b[1;31mSyntaxError\u001b[0m\u001b[1;31m:\u001b[0m invalid syntax\n"
     ]
    }
   ],
   "source": [
    "valor = int (input (\"Quanto quer sacar?\")\n",
    "nota1 = 1\n",
    "nota2 = 5\n",
    "nota3 = 10\n",
    "nota4 = 50\n",
    "nota5 = 100\n",
    "if(valor < 10 anda valor > 600):\n",
    "    print \"Não pode sacar\" "
   ]
  },
  {
   "cell_type": "code",
   "execution_count": null,
   "metadata": {},
   "outputs": [],
   "source": []
  }
 ],
 "metadata": {
  "kernelspec": {
   "display_name": "Python 3",
   "language": "python",
   "name": "python3"
  },
  "language_info": {
   "codemirror_mode": {
    "name": "ipython",
    "version": 3
   },
   "file_extension": ".py",
   "mimetype": "text/x-python",
   "name": "python",
   "nbconvert_exporter": "python",
   "pygments_lexer": "ipython3",
   "version": "3.7.1"
  }
 },
 "nbformat": 4,
 "nbformat_minor": 2
}
